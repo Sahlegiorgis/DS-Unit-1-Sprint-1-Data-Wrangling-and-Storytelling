{
  "nbformat": 4,
  "nbformat_minor": 0,
  "metadata": {
    "colab": {
      "name": "Sahle Copy of Practice-Notebook.ipynb",
      "provenance": [],
      "include_colab_link": true
    },
    "kernelspec": {
      "name": "python3",
      "display_name": "Python 3"
    }
  },
  "cells": [
    {
      "cell_type": "markdown",
      "metadata": {
        "id": "view-in-github",
        "colab_type": "text"
      },
      "source": [
        "<a href=\"https://colab.research.google.com/github/Sahlegiorgis/DS-Unit-1-Sprint-1-Data-Wrangling-and-Storytelling/blob/master/Sahle_Copy_of_Practice_Notebook.ipynb\" target=\"_parent\"><img src=\"https://colab.research.google.com/assets/colab-badge.svg\" alt=\"Open In Colab\"/></a>"
      ]
    },
    {
      "cell_type": "markdown",
      "metadata": {
        "id": "YAlFuj9oJXtg",
        "colab_type": "text"
      },
      "source": [
        "# You did it!\n",
        "\n",
        "If you're reading this text in a Google Colab text editor then you have successfully opened this file from GitHub in Google Colab!\n",
        "\n",
        "Please make a change to this file by typing `2+2` in the code cell below. Make sure that you run the code cell and can see the number `4` outputted below the code cell. Once you have modified the file you will be able to save your changes back to your GitHub account.\n",
        "\n"
      ]
    },
    {
      "cell_type": "code",
      "metadata": {
        "id": "-ngCZ8MNJVAe",
        "colab_type": "code",
        "colab": {
          "base_uri": "https://localhost:8080/",
          "height": 34
        },
        "outputId": "8c93a232-5ec0-46cd-fcc1-d13c7d133315"
      },
      "source": [
        "# Make your change here\n",
        "print(2 + 2)\n"
      ],
      "execution_count": null,
      "outputs": [
        {
          "output_type": "stream",
          "text": [
            "4\n"
          ],
          "name": "stdout"
        }
      ]
    },
    {
      "cell_type": "markdown",
      "metadata": {
        "id": "8aGS4GlaKU2Q",
        "colab_type": "text"
      },
      "source": [
        "After making your change and running hte code cell, from the top menu select `File` -> `Save a Copy in GitHub` in order to save the changes that you have made in this file back to the appropriate repository on GitHub. \n",
        "\n",
        "Once you have done this, your browser will open a new tab showing you a preview of the saved file on GitHub. You should be able to see the changes that you have made to the file in that file preview.\n"
      ]
    },
    {
      "cell_type": "code",
      "metadata": {
        "id": "Z34PyGBeKd4B",
        "colab_type": "code",
        "colab": {}
      },
      "source": [
        "import pandas as pd\n",
        "import numpy as np\n",
        "import matplotlib as plt"
      ],
      "execution_count": null,
      "outputs": []
    },
    {
      "cell_type": "code",
      "metadata": {
        "id": "7B6Ph_svOW9o",
        "colab_type": "code",
        "colab": {
          "base_uri": "https://localhost:8080/",
          "height": 34
        },
        "outputId": "b6b477cf-6721-448b-94c1-86c9a9a48fba"
      },
      "source": [
        "url = 'https://opendata.arcgis.com/datasets/e8c2b7ef54fb43d9a2ed1b0b75d0a14d_4.csv'\n",
        "print(url)"
      ],
      "execution_count": null,
      "outputs": [
        {
          "output_type": "stream",
          "text": [
            "https://opendata.arcgis.com/datasets/e8c2b7ef54fb43d9a2ed1b0b75d0a14d_4.csv\n"
          ],
          "name": "stdout"
        }
      ]
    },
    {
      "cell_type": "code",
      "metadata": {
        "id": "FGVSox4YOa4I",
        "colab_type": "code",
        "colab": {
          "base_uri": "https://localhost:8080/",
          "height": 204
        },
        "outputId": "d66f60b7-aaaf-46e4-cb1d-2e14c670ff23"
      },
      "source": [
        "data = url\n",
        "data = pd.read_csv(url)\n",
        "data.head()"
      ],
      "execution_count": null,
      "outputs": [
        {
          "output_type": "execute_result",
          "data": {
            "text/html": [
              "<div>\n",
              "<style scoped>\n",
              "    .dataframe tbody tr th:only-of-type {\n",
              "        vertical-align: middle;\n",
              "    }\n",
              "\n",
              "    .dataframe tbody tr th {\n",
              "        vertical-align: top;\n",
              "    }\n",
              "\n",
              "    .dataframe thead th {\n",
              "        text-align: right;\n",
              "    }\n",
              "</style>\n",
              "<table border=\"1\" class=\"dataframe\">\n",
              "  <thead>\n",
              "    <tr style=\"text-align: right;\">\n",
              "      <th></th>\n",
              "      <th>OBJECTID</th>\n",
              "      <th>LENGTH</th>\n",
              "      <th>NAME</th>\n",
              "      <th>STATUS</th>\n",
              "      <th>MAINTENANC</th>\n",
              "      <th>Shape_Length</th>\n",
              "      <th>MILES</th>\n",
              "      <th>ROUTEID</th>\n",
              "    </tr>\n",
              "  </thead>\n",
              "  <tbody>\n",
              "    <tr>\n",
              "      <th>0</th>\n",
              "      <td>1</td>\n",
              "      <td>827.476</td>\n",
              "      <td>National Mall Trails</td>\n",
              "      <td>Open</td>\n",
              "      <td>NPS</td>\n",
              "      <td>252.214952</td>\n",
              "      <td>0.0</td>\n",
              "      <td>NaN</td>\n",
              "    </tr>\n",
              "    <tr>\n",
              "      <th>1</th>\n",
              "      <td>2</td>\n",
              "      <td>19225.404</td>\n",
              "      <td>Capital Crescent Trail</td>\n",
              "      <td>Open</td>\n",
              "      <td></td>\n",
              "      <td>5859.914940</td>\n",
              "      <td>0.0</td>\n",
              "      <td>NaN</td>\n",
              "    </tr>\n",
              "    <tr>\n",
              "      <th>2</th>\n",
              "      <td>3</td>\n",
              "      <td>25404.687</td>\n",
              "      <td>Rock Creek Trail</td>\n",
              "      <td>Open</td>\n",
              "      <td>NPS</td>\n",
              "      <td>7743.364240</td>\n",
              "      <td>0.0</td>\n",
              "      <td>NaN</td>\n",
              "    </tr>\n",
              "    <tr>\n",
              "      <th>3</th>\n",
              "      <td>4</td>\n",
              "      <td>6201.712</td>\n",
              "      <td>Metropolitan Branch Trail</td>\n",
              "      <td>Open</td>\n",
              "      <td>DDOT</td>\n",
              "      <td>1890.285630</td>\n",
              "      <td>0.0</td>\n",
              "      <td>NaN</td>\n",
              "    </tr>\n",
              "    <tr>\n",
              "      <th>4</th>\n",
              "      <td>5</td>\n",
              "      <td>12625.091</td>\n",
              "      <td>Watts Branch Trail</td>\n",
              "      <td>Open</td>\n",
              "      <td>DDOT</td>\n",
              "      <td>3848.135455</td>\n",
              "      <td>0.0</td>\n",
              "      <td>NaN</td>\n",
              "    </tr>\n",
              "  </tbody>\n",
              "</table>\n",
              "</div>"
            ],
            "text/plain": [
              "   OBJECTID     LENGTH                       NAME  ... Shape_Length MILES  ROUTEID\n",
              "0         1    827.476       National Mall Trails  ...   252.214952   0.0      NaN\n",
              "1         2  19225.404     Capital Crescent Trail  ...  5859.914940   0.0      NaN\n",
              "2         3  25404.687           Rock Creek Trail  ...  7743.364240   0.0      NaN\n",
              "3         4   6201.712  Metropolitan Branch Trail  ...  1890.285630   0.0      NaN\n",
              "4         5  12625.091         Watts Branch Trail  ...  3848.135455   0.0      NaN\n",
              "\n",
              "[5 rows x 8 columns]"
            ]
          },
          "metadata": {
            "tags": []
          },
          "execution_count": 8
        }
      ]
    },
    {
      "cell_type": "code",
      "metadata": {
        "id": "awdHzkcPO52T",
        "colab_type": "code",
        "colab": {
          "base_uri": "https://localhost:8080/",
          "height": 68
        },
        "outputId": "de322ea0-795d-4ee0-bbe7-93684158cbec"
      },
      "source": [
        "data.columns"
      ],
      "execution_count": null,
      "outputs": [
        {
          "output_type": "execute_result",
          "data": {
            "text/plain": [
              "Index(['OBJECTID', 'LENGTH', 'NAME', 'STATUS', 'MAINTENANC', 'Shape_Length',\n",
              "       'MILES', 'ROUTEID'],\n",
              "      dtype='object')"
            ]
          },
          "metadata": {
            "tags": []
          },
          "execution_count": 12
        }
      ]
    },
    {
      "cell_type": "code",
      "metadata": {
        "id": "KtRbjUXJO6Gm",
        "colab_type": "code",
        "colab": {}
      },
      "source": [
        ""
      ],
      "execution_count": null,
      "outputs": []
    }
  ]
}